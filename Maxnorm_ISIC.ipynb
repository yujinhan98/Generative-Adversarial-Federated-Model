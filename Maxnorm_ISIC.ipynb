{
 "cells": [
  {
   "cell_type": "code",
   "execution_count": 1,
   "metadata": {},
   "outputs": [
    {
     "name": "stderr",
     "output_type": "stream",
     "text": [
      "/home/yujin/.conda/envs/yjenv/lib/python3.11/site-packages/tqdm/auto.py:21: TqdmWarning: IProgress not found. Please update jupyter and ipywidgets. See https://ipywidgets.readthedocs.io/en/stable/user_install.html\n",
      "  from .autonotebook import tqdm as notebook_tqdm\n"
     ]
    },
    {
     "name": "stdout",
     "output_type": "stream",
     "text": [
      "cuda:0\n",
      "cuda:0\n",
      "cuda:0\n",
      "cuda:0\n"
     ]
    }
   ],
   "source": [
    "import numpy as np\n",
    "import pandas as pd\n",
    "import random\n",
    "from torch.utils import data\n",
    "import matplotlib.pyplot as plt\n",
    "import torch\n",
    "import torchvision\n",
    "from torchvision import transforms,datasets\n",
    "import torch.nn as nn\n",
    "import torch.nn.functional as F\n",
    "import torch.optim as optim\n",
    "from torch.utils.data.dataset import Dataset\n",
    "from torch.utils.data import DataLoader\n",
    "from sklearn import preprocessing\n",
    "from sklearn.svm import SVC\n",
    "from sklearn.model_selection import train_test_split\n",
    "from sklearn.preprocessing import StandardScaler\n",
    "from sklearn.metrics import accuracy_score, roc_auc_score\n",
    "from torch.utils import data\n",
    "import sys,os\n",
    "sys.path.append(r\"/./models\")\n",
    "from GAFM import train_GAFM\n",
    "from Marvell import train_marvell\n",
    "from Vanilla import train_vanilla\n",
    "from MaxNorm import train_maxnorm\n",
    "from bases import process_data,DataSet,seed_everything,get_logger\n",
    "from tqdm import trange\n",
    "import datetime\n",
    "from torch.utils.data import Dataset, DataLoader, random_split, SubsetRandomSampler, WeightedRandomSampler"
   ]
  },
  {
   "cell_type": "code",
   "execution_count": 2,
   "metadata": {},
   "outputs": [],
   "source": [
    "def get_data(random_state,dataname=\"ISIC\"):\n",
    "    config = {\n",
    "      \"batch_size\": 128}\n",
    "    \n",
    "    train_transform = transforms.Compose([transforms.Resize((64, 64)),\n",
    "                                          # transforms.Grayscale(num_output_channels=1),\n",
    "                                          transforms.Grayscale(num_output_channels=1),\n",
    "                                          transforms.ToTensor()\n",
    "                                          ])\n",
    "    train_data = datasets.ImageFolder('/home/yujin/GAN/data/train', train_transform)\n",
    "    test_data = datasets.ImageFolder('/home/yujin/GAN/data/test', train_transform)\n",
    "    train_loader = data.DataLoader(train_data, batch_size=config[\"batch_size\"], shuffle=True, pin_memory=True)\n",
    "    test_loader = data.DataLoader(test_data, batch_size=config[\"batch_size\"], shuffle=True)\n",
    "    features=1\n",
    "\n",
    "    return train_loader, test_loader, features"
   ]
  },
  {
   "cell_type": "code",
   "execution_count": 3,
   "metadata": {},
   "outputs": [],
   "source": [
    "##Parameters\n",
    "dataname='ISIC'\n",
    "log_path='/./logs'\n",
    "# now = datetime.datetime.now().strftime('%b%d_%H-%M')+dataname+str(repeats)+str(lr)+str(Epochs)+'M'\n",
    "now = datetime.datetime.now().strftime('%b%d_%H-%M')\n",
    "log_dir = f'{log_path}/{now}'\n",
    "isExist = os.path.exists(log_dir)\n",
    "if not isExist:\n",
    "  os.mkdir(log_dir)\n",
    "logger= open(os.path.join(log_dir, 'log.txt'), 'w')"
   ]
  },
  {
   "cell_type": "code",
   "execution_count": 4,
   "metadata": {},
   "outputs": [
    {
     "name": "stdout",
     "output_type": "stream",
     "text": [
      "Training MaxNorm...\n"
     ]
    },
    {
     "name": "stderr",
     "output_type": "stream",
     "text": [
      "  0%|          | 0/1 [00:00<?, ?it/s]"
     ]
    },
    {
     "name": "stdout",
     "output_type": "stream",
     "text": [
      "Epoch 0 Training Loss 0.005488883313603241 Training AUC 0.47025666016894085 Testing AUC 0.4797005599172805 NA Leak AUC 0.9709870741668988 MA Leak AUC 1.0 Median Leak AUC 1.0\n",
      "Epoch 10 Training Loss 0.0054888043150830915 Training AUC 0.5738437529007705 Testing AUC 0.612745328016264 NA Leak AUC 0.9716861598440546 MA Leak AUC 1.0 Median Leak AUC 1.0\n",
      "Epoch 20 Training Loss 0.005486623733420595 Training AUC 0.6268947832544323 Testing AUC 0.6486994910142749 NA Leak AUC 0.9667681936322288 MA Leak AUC 1.0 Median Leak AUC 1.0\n",
      "Epoch 30 Training Loss 0.005487033924620448 Training AUC 0.6076644156688016 Testing AUC 0.6086620484181349 NA Leak AUC 0.9688828552863641 MA Leak AUC 1.0 Median Leak AUC 1.0\n",
      "Epoch 40 Training Loss 0.005486776286014446 Training AUC 0.6083814861227141 Testing AUC 0.6139150863077244 NA Leak AUC 0.9695854218880535 MA Leak AUC 1.0 Median Leak AUC 1.0\n",
      "Epoch 50 Training Loss 0.005486052516349448 Training AUC 0.616060405643739 Testing AUC 0.6137447916550554 NA Leak AUC 0.9695854218880535 MA Leak AUC 1.0 Median Leak AUC 1.0\n",
      "Epoch 60 Training Loss 0.005486805992288849 Training AUC 0.6227507425972338 Testing AUC 0.6332140210364656 NA Leak AUC 0.973776455026455 MA Leak AUC 1.0 Median Leak AUC 1.0\n",
      "Epoch 70 Training Loss 0.005486021371241835 Training AUC 0.6238652186020608 Testing AUC 0.626446640586021 NA Leak AUC 0.9751641836071661 MA Leak AUC 1.0 Median Leak AUC 1.0\n",
      "Epoch 80 Training Loss 0.005480403573344985 Training AUC 0.6272243107769424 Testing AUC 0.637627072641137 NA Leak AUC 0.9667681936322288 MA Leak AUC 1.0 Median Leak AUC 1.0\n",
      "Epoch 90 Training Loss 0.005480580005208008 Training AUC 0.6314234660725889 Testing AUC 0.6360601953414283 NA Leak AUC 0.9730808502738327 MA Leak AUC 1.0 Median Leak AUC 1.0\n",
      "Epoch 100 Training Loss 0.005473672306889108 Training AUC 0.6348005430242272 Testing AUC 0.632628517260853 NA Leak AUC 0.966060985797828 MA Leak AUC 1.0 Median Leak AUC 1.0\n",
      "Epoch 110 Training Loss 0.005469072641099804 Training AUC 0.6356382855286364 Testing AUC 0.6302529230194667 NA Leak AUC 0.9674742411584517 MA Leak AUC 1.0 Median Leak AUC 1.0\n",
      "Epoch 120 Training Loss 0.005463860279507118 Training AUC 0.6364278752436647 Testing AUC 0.6317458310653531 NA Leak AUC 0.9723840852130325 MA Leak AUC 1.0 Median Leak AUC 1.0\n",
      "Epoch 130 Training Loss 0.005452845958484365 Training AUC 0.6386684303350969 Testing AUC 0.6513440818264711 NA Leak AUC 0.962530168012624 MA Leak AUC 0.9898391812865497 Median Leak AUC 0.9898391812865497\n",
      "Epoch 140 Training Loss 0.005443077384916668 Training AUC 0.6420199805068226 Testing AUC 0.6588149321401571 NA Leak AUC 0.9541428803490206 MA Leak AUC 0.9776602965747704 Median Leak AUC 0.9776602965747704\n",
      "Epoch 150 Training Loss 0.005422136615939036 Training AUC 0.6581064930845633 Testing AUC 0.6622407669322542 NA Leak AUC 0.9359608512020793 MA Leak AUC 0.9682696324143693 Median Leak AUC 0.9682696324143693\n",
      "Epoch 160 Training Loss 0.005398012061482805 Training AUC 0.6654860530957021 Testing AUC 0.6667079094286553 NA Leak AUC 0.8765727977350785 MA Leak AUC 0.9606855680868839 Median Leak AUC 0.9606855680868839\n",
      "Epoch 170 Training Loss 0.005355415338117669 Training AUC 0.6726225285435812 Testing AUC 0.6947742639794672 NA Leak AUC 0.6932098765432098 MA Leak AUC 0.9526837928153717 Median Leak AUC 0.9526837928153717\n",
      "Epoch 180 Training Loss 0.005312873095771808 Training AUC 0.6784693214517776 Testing AUC 0.6956191777605545 NA Leak AUC 0.7350262229648195 MA Leak AUC 0.9483004385964912 Median Leak AUC 0.9483004385964912\n",
      "Epoch 190 Training Loss 0.005273615935698083 Training AUC 0.6828465840527245 Testing AUC 0.6897170497261456 NA Leak AUC 0.7711326928432192 MA Leak AUC 0.9478122389306599 Median Leak AUC 0.9478122389306599\n",
      "Epoch 200 Training Loss 0.005235678316717436 Training AUC 0.6850186809616634 Testing AUC 0.6768011323425336 NA Leak AUC 0.7841646941427645 MA Leak AUC 0.9457236842105263 Median Leak AUC 0.9457236842105263\n",
      "Epoch 210 Training Loss 0.0051964570842014815 Training AUC 0.6909461152882206 Testing AUC 0.6860211820931288 NA Leak AUC 0.7563996797549428 MA Leak AUC 0.9417580409356725 Median Leak AUC 0.9433583959899748\n",
      "Epoch 220 Training Loss 0.005164121296384116 Training AUC 0.6944995590828924 Testing AUC 0.6953859258908712 NA Leak AUC 0.7791846514434234 MA Leak AUC 0.9352809106098579 Median Leak AUC 0.9448882623224728\n",
      "Epoch 230 Training Loss 0.0051295621003575285 Training AUC 0.6998874501067484 Testing AUC 0.7113803886095174 NA Leak AUC 0.7446509793001022 MA Leak AUC 0.9322211779448623 Median Leak AUC 0.9390507518796991\n",
      "Epoch 240 Training Loss 0.005097736034396209 Training AUC 0.7052092035644668 Testing AUC 0.7016043572441522 NA Leak AUC 0.7450907360995079 MA Leak AUC 0.9301326232247284 Median Leak AUC 0.9377976190476189\n"
     ]
    },
    {
     "name": "stderr",
     "output_type": "stream",
     "text": [
      "100%|██████████| 1/1 [25:19<00:00, 1519.17s/it]"
     ]
    },
    {
     "name": "stdout",
     "output_type": "stream",
     "text": [
      "Epoch 249 Training Loss 0.005065771694735196 Training AUC 0.7128063213589528 Testing AUC 0.7216308012915114 NA Leak AUC 0.732184048083171 MA Leak AUC 0.9327746449456975 Median Leak AUC 0.9290204678362574\n",
      "MaxNorm Training AUC [0.7128063213589528]\n",
      "MaxNorm Testing AUC [0.7216308012915114]\n",
      "MaxNorm TVD [0.05729943722941201]\n",
      "MaxNorm NA Leak AUC [0.732184048083171]\n",
      "MaxNorm MA Leak AUC [0.9327746449456975]\n",
      "MaxNorm Median Leak AUC [0.9290204678362574]\n",
      "MaxNorm Mean Training AUC 0.7128063213589528 0.0\n",
      "MaxNorm Mean Testing AUC 0.7216308012915114 0.0\n",
      "MaxNorm Mean TVD 0.05729943722941201 0.0\n",
      "MaxNorm Mean NA Leak AUC 0.732184048083171 0.0\n",
      "MaxNorm Mean MA Leak AUC 0.9327746449456975 0.0\n",
      "MaxNorm Mean Median Leak AUC 0.9290204678362574 0.0\n"
     ]
    },
    {
     "name": "stderr",
     "output_type": "stream",
     "text": [
      "\n"
     ]
    }
   ],
   "source": [
    "Epochs=250\n",
    "repeats=1\n",
    "lr=1e-6\n",
    "print('Training MaxNorm...')\n",
    "train_auc_list_maxnorm,test_auc_list_maxnorm,train_tvd_list_maxnorm,na_leak_auc_list_maxnorm,ma_leak_auc_list_maxnorm,cos_leak_auc_list_maxnorm=[],[],[],[],[],[]\n",
    "for i in trange(repeats):\n",
    "  seed_everything(seed=i)\n",
    "  train_loader,test_loader,features=get_data(i)\n",
    "  train_auc_maxnorm,test_auc_maxnorm,train_tvd_maxnorm,na_leak_auc_maxnorm,ma_leak_auc_maxnorm,cos_leak_auc_maxnorm,splitnn_maxnorm=train_maxnorm(Epochs=Epochs,features=features,train_loader=train_loader,test_loader=test_loader,lr=lr,info=True,logger=logger)\n",
    "  train_auc_list_maxnorm.append(train_auc_maxnorm)\n",
    "  test_auc_list_maxnorm.append(test_auc_maxnorm)\n",
    "  train_tvd_list_maxnorm.append(train_tvd_maxnorm)\n",
    "  na_leak_auc_list_maxnorm.append(na_leak_auc_maxnorm)\n",
    "  ma_leak_auc_list_maxnorm.append(ma_leak_auc_maxnorm)\n",
    "  cos_leak_auc_list_maxnorm.append(cos_leak_auc_maxnorm)\n",
    "  if na_leak_auc_maxnorm<best:\n",
    "    best=na_leak_auc_maxnorm\n",
    "    maxnorm_model=splitnn_maxnorm\n",
    "\n",
    "print('MaxNorm Training AUC',(train_auc_list_maxnorm))\n",
    "print('MaxNorm Testing AUC',(test_auc_list_maxnorm))\n",
    "print('MaxNorm TVD',(train_tvd_list_maxnorm))\n",
    "print('MaxNorm NA Leak AUC',(na_leak_auc_list_maxnorm))\n",
    "print('MaxNorm MA Leak AUC',(ma_leak_auc_list_maxnorm))\n",
    "print('MaxNorm Median Leak AUC',(cos_leak_auc_list_maxnorm))\n",
    "\n",
    "print('MaxNorm Mean Training AUC',np.mean(train_auc_list_maxnorm),np.std(train_auc_list_maxnorm))\n",
    "print('MaxNorm Mean Testing AUC',np.mean(test_auc_list_maxnorm),np.std(test_auc_list_maxnorm))\n",
    "print('MaxNorm Mean TVD',np.mean(train_tvd_list_maxnorm),np.std(train_tvd_list_maxnorm))\n",
    "print('MaxNorm Mean NA Leak AUC',np.mean(na_leak_auc_list_maxnorm),np.std(na_leak_auc_list_maxnorm))\n",
    "print('MaxNorm Mean MA Leak AUC',np.mean(ma_leak_auc_list_maxnorm),np.std(ma_leak_auc_list_maxnorm))\n",
    "print('MaxNorm Mean Median Leak AUC',np.mean(cos_leak_auc_list_maxnorm),np.std(cos_leak_auc_list_maxnorm))\n"
   ]
  }
 ],
 "metadata": {
  "kernelspec": {
   "display_name": "yjenv",
   "language": "python",
   "name": "python3"
  },
  "language_info": {
   "codemirror_mode": {
    "name": "ipython",
    "version": 3
   },
   "file_extension": ".py",
   "mimetype": "text/x-python",
   "name": "python",
   "nbconvert_exporter": "python",
   "pygments_lexer": "ipython3",
   "version": "3.11.5"
  }
 },
 "nbformat": 4,
 "nbformat_minor": 2
}
